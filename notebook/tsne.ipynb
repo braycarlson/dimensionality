{
 "cells": [
  {
   "cell_type": "markdown",
   "id": "b9fb3c4f-ed95-4903-b94b-41dc6847fc42",
   "metadata": {},
   "source": [
    "# t-SNE"
   ]
  },
  {
   "cell_type": "code",
   "execution_count": 1,
   "id": "71affdfe-b566-4005-9d5a-aa9cc87a72c3",
   "metadata": {},
   "outputs": [],
   "source": [
    "# Reload the notebook if an external file is updated\n",
    "%load_ext autoreload\n",
    "%autoreload 2\n",
    "\n",
    "import sys\n",
    "    \n",
    "from pathlib import Path\n",
    "\n",
    "path = (\n",
    "    Path\n",
    "    .cwd()\n",
    "    .parent\n",
    "    .parent\n",
    "    .joinpath('project')\n",
    ")\n",
    "\n",
    "sys.path.append(path)"
   ]
  },
  {
   "cell_type": "code",
   "execution_count": 2,
   "id": "737c7cc2-eb16-46d0-8bc3-02df2058abe6",
   "metadata": {},
   "outputs": [],
   "source": [
    "from __future__ import annotations\n",
    "\n",
    "import pandas as pd\n",
    "\n",
    "from project.reduction import (\n",
    "    DimensionalityReduction,\n",
    "    TSNEStrategy\n",
    ")\n",
    "from project.visualizer.tsne import (\n",
    "    MatplotlibVisualizer,\n",
    "    TSNEVisualizer,\n",
    "    PlotlyVisualizer\n",
    ")\n",
    "from project.visualizer.settings import Settings\n",
    "from sklearn.datasets import (\n",
    "    load_digits,\n",
    "    load_iris,\n",
    "    load_wine\n",
    ")\n",
    "from sklearn.preprocessing import StandardScaler"
   ]
  },
  {
   "cell_type": "code",
   "execution_count": 3,
   "id": "c1d4c1a9-18bd-4fed-a943-dc5383997e1d",
   "metadata": {},
   "outputs": [],
   "source": [
    "scale = True\n",
    "\n",
    "loader = load_iris()\n",
    "\n",
    "columns, data, target = (\n",
    "    loader.feature_names,\n",
    "    loader.data,\n",
    "    loader.target\n",
    ")\n",
    "\n",
    "dataframe = pd.DataFrame(columns=columns, data=data)"
   ]
  },
  {
   "cell_type": "code",
   "execution_count": 4,
   "id": "5bcdc3af-e6df-4c9b-89f9-22e4ee3383cc",
   "metadata": {},
   "outputs": [],
   "source": [
    "if scale:\n",
    "    scaler = StandardScaler()\n",
    "    data = scaler.fit_transform(dataframe)\n",
    "\n",
    "    dataframe = pd.DataFrame(columns=columns, data=data)\n",
    "\n",
    "dataset = dataframe.to_numpy()"
   ]
  },
  {
   "cell_type": "code",
   "execution_count": 5,
   "id": "970543f0-d500-4de8-ae51-d469a71855e2",
   "metadata": {},
   "outputs": [
    {
     "data": {
      "text/plain": [
       "(4,)"
      ]
     },
     "execution_count": 5,
     "metadata": {},
     "output_type": "execute_result"
    }
   ],
   "source": [
    "dataframe.columns.to_numpy().shape"
   ]
  },
  {
   "cell_type": "code",
   "execution_count": 6,
   "id": "12bbd0d3-7461-48a6-99da-acd4c4981661",
   "metadata": {},
   "outputs": [
    {
     "data": {
      "text/plain": [
       "(150, 4)"
      ]
     },
     "execution_count": 6,
     "metadata": {},
     "output_type": "execute_result"
    }
   ],
   "source": [
    "dataframe.shape"
   ]
  },
  {
   "cell_type": "code",
   "execution_count": 7,
   "id": "77d810d9-f71d-4fe0-b824-6cb36e8d30ca",
   "metadata": {},
   "outputs": [
    {
     "data": {
      "text/html": [
       "<div>\n",
       "<style scoped>\n",
       "    .dataframe tbody tr th:only-of-type {\n",
       "        vertical-align: middle;\n",
       "    }\n",
       "\n",
       "    .dataframe tbody tr th {\n",
       "        vertical-align: top;\n",
       "    }\n",
       "\n",
       "    .dataframe thead th {\n",
       "        text-align: right;\n",
       "    }\n",
       "</style>\n",
       "<table border=\"1\" class=\"dataframe\">\n",
       "  <thead>\n",
       "    <tr style=\"text-align: right;\">\n",
       "      <th></th>\n",
       "      <th>sepal length (cm)</th>\n",
       "      <th>sepal width (cm)</th>\n",
       "      <th>petal length (cm)</th>\n",
       "      <th>petal width (cm)</th>\n",
       "    </tr>\n",
       "  </thead>\n",
       "  <tbody>\n",
       "    <tr>\n",
       "      <th>0</th>\n",
       "      <td>-0.900681</td>\n",
       "      <td>1.019004</td>\n",
       "      <td>-1.340227</td>\n",
       "      <td>-1.315444</td>\n",
       "    </tr>\n",
       "    <tr>\n",
       "      <th>1</th>\n",
       "      <td>-1.143017</td>\n",
       "      <td>-0.131979</td>\n",
       "      <td>-1.340227</td>\n",
       "      <td>-1.315444</td>\n",
       "    </tr>\n",
       "    <tr>\n",
       "      <th>2</th>\n",
       "      <td>-1.385353</td>\n",
       "      <td>0.328414</td>\n",
       "      <td>-1.397064</td>\n",
       "      <td>-1.315444</td>\n",
       "    </tr>\n",
       "    <tr>\n",
       "      <th>3</th>\n",
       "      <td>-1.506521</td>\n",
       "      <td>0.098217</td>\n",
       "      <td>-1.283389</td>\n",
       "      <td>-1.315444</td>\n",
       "    </tr>\n",
       "    <tr>\n",
       "      <th>4</th>\n",
       "      <td>-1.021849</td>\n",
       "      <td>1.249201</td>\n",
       "      <td>-1.340227</td>\n",
       "      <td>-1.315444</td>\n",
       "    </tr>\n",
       "  </tbody>\n",
       "</table>\n",
       "</div>"
      ],
      "text/plain": [
       "   sepal length (cm)  sepal width (cm)  petal length (cm)  petal width (cm)\n",
       "0          -0.900681          1.019004          -1.340227         -1.315444\n",
       "1          -1.143017         -0.131979          -1.340227         -1.315444\n",
       "2          -1.385353          0.328414          -1.397064         -1.315444\n",
       "3          -1.506521          0.098217          -1.283389         -1.315444\n",
       "4          -1.021849          1.249201          -1.340227         -1.315444"
      ]
     },
     "execution_count": 7,
     "metadata": {},
     "output_type": "execute_result"
    }
   ],
   "source": [
    "dataframe.head(5)"
   ]
  },
  {
   "cell_type": "code",
   "execution_count": 8,
   "id": "9785cf48-97bd-44d2-beb2-d8f8c393a7aa",
   "metadata": {},
   "outputs": [],
   "source": [
    "strategy = TSNEStrategy(dataframe=dataframe, dataset=dataset, target=target)\n",
    "reduction = DimensionalityReduction(strategy=strategy)\n",
    "\n",
    "n_components = 3\n",
    "transformation = reduction.reduce(n_components=n_components)\n",
    "\n",
    "visualizer = PlotlyVisualizer(\n",
    "    dimension=3,\n",
    "    reduction=reduction,\n",
    "    transformation=transformation\n",
    ")\n",
    "\n",
    "tsne = TSNEVisualizer(visualizer=visualizer)\n",
    "\n",
    "method = str(strategy)\n",
    "dimensionality = f\"{n_components}-Component\"\n",
    "\n",
    "title = f\"{dimensionality} {method} for the Iris Dataset\"\n",
    "tsne.visualizer.engine.settings.title = title"
   ]
  },
  {
   "cell_type": "code",
   "execution_count": 9,
   "id": "44fdb865-fbb8-4ad5-adb0-f91d798239e2",
   "metadata": {},
   "outputs": [],
   "source": [
    "tsne.transform()\n",
    "tsne.show()"
   ]
  }
 ],
 "metadata": {
  "kernelspec": {
   "display_name": "Python 3 (ipykernel)",
   "language": "python",
   "name": "python3"
  },
  "language_info": {
   "codemirror_mode": {
    "name": "ipython",
    "version": 3
   },
   "file_extension": ".py",
   "mimetype": "text/x-python",
   "name": "python",
   "nbconvert_exporter": "python",
   "pygments_lexer": "ipython3",
   "version": "3.11.2"
  }
 },
 "nbformat": 4,
 "nbformat_minor": 5
}
