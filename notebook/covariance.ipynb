{
 "cells": [
  {
   "cell_type": "markdown",
   "id": "8c300559-670b-4ea7-b063-9018d49b84f0",
   "metadata": {},
   "source": [
    "# Covariance"
   ]
  },
  {
   "cell_type": "code",
   "execution_count": 1,
   "id": "71affdfe-b566-4005-9d5a-aa9cc87a72c3",
   "metadata": {},
   "outputs": [],
   "source": [
    "# Reload the notebook if an external file is updated\n",
    "%load_ext autoreload\n",
    "%autoreload 2\n",
    "\n",
    "import sys\n",
    "    \n",
    "from pathlib import Path\n",
    "\n",
    "path = (\n",
    "    Path\n",
    "    .cwd()\n",
    "    .parent\n",
    "    .parent\n",
    "    .joinpath('project')\n",
    ")\n",
    "\n",
    "sys.path.append(path)"
   ]
  },
  {
   "cell_type": "code",
   "execution_count": 2,
   "id": "737c7cc2-eb16-46d0-8bc3-02df2058abe6",
   "metadata": {},
   "outputs": [],
   "source": [
    "from __future__ import annotations\n",
    "\n",
    "import numpy as np\n",
    "import pandas as pd\n",
    "\n",
    "from project.reduction import (\n",
    "    DimensionalityReduction,\n",
    "    PCAStrategy\n",
    ")\n",
    "from project.visualizer.pca import (\n",
    "    MatplotlibVisualizer,\n",
    "    PCAVisualizer,\n",
    "    PlotlyVisualizer\n",
    ")\n",
    "from project.visualizer.settings import Settings\n",
    "from sklearn.datasets import (\n",
    "    load_digits,\n",
    "    load_iris,\n",
    "    load_wine\n",
    ")\n",
    "from sklearn.preprocessing import StandardScaler"
   ]
  },
  {
   "cell_type": "code",
   "execution_count": 3,
   "id": "c1d4c1a9-18bd-4fed-a943-dc5383997e1d",
   "metadata": {},
   "outputs": [],
   "source": [
    "scale = True\n",
    "\n",
    "loader = load_iris()\n",
    "\n",
    "columns, data, target = (\n",
    "    loader.feature_names,\n",
    "    loader.data,\n",
    "    loader.target\n",
    ")\n",
    "\n",
    "dataframe = pd.DataFrame(columns=columns, data=data)"
   ]
  },
  {
   "cell_type": "code",
   "execution_count": 4,
   "id": "d29bd863-01a5-490b-900f-d938da55746f",
   "metadata": {},
   "outputs": [],
   "source": [
    "subset = dataframe.tail()\n",
    "dataframe = subset.copy()"
   ]
  },
  {
   "cell_type": "code",
   "execution_count": 5,
   "id": "5178f574-ba7e-4304-9903-1d3c3ca460c5",
   "metadata": {},
   "outputs": [
    {
     "data": {
      "text/html": [
       "<div>\n",
       "<style scoped>\n",
       "    .dataframe tbody tr th:only-of-type {\n",
       "        vertical-align: middle;\n",
       "    }\n",
       "\n",
       "    .dataframe tbody tr th {\n",
       "        vertical-align: top;\n",
       "    }\n",
       "\n",
       "    .dataframe thead th {\n",
       "        text-align: right;\n",
       "    }\n",
       "</style>\n",
       "<table border=\"1\" class=\"dataframe\">\n",
       "  <thead>\n",
       "    <tr style=\"text-align: right;\">\n",
       "      <th></th>\n",
       "      <th>sepal length (cm)</th>\n",
       "      <th>sepal width (cm)</th>\n",
       "      <th>petal length (cm)</th>\n",
       "      <th>petal width (cm)</th>\n",
       "    </tr>\n",
       "  </thead>\n",
       "  <tbody>\n",
       "    <tr>\n",
       "      <th>145</th>\n",
       "      <td>6.7</td>\n",
       "      <td>3.0</td>\n",
       "      <td>5.2</td>\n",
       "      <td>2.3</td>\n",
       "    </tr>\n",
       "    <tr>\n",
       "      <th>146</th>\n",
       "      <td>6.3</td>\n",
       "      <td>2.5</td>\n",
       "      <td>5.0</td>\n",
       "      <td>1.9</td>\n",
       "    </tr>\n",
       "    <tr>\n",
       "      <th>147</th>\n",
       "      <td>6.5</td>\n",
       "      <td>3.0</td>\n",
       "      <td>5.2</td>\n",
       "      <td>2.0</td>\n",
       "    </tr>\n",
       "    <tr>\n",
       "      <th>148</th>\n",
       "      <td>6.2</td>\n",
       "      <td>3.4</td>\n",
       "      <td>5.4</td>\n",
       "      <td>2.3</td>\n",
       "    </tr>\n",
       "    <tr>\n",
       "      <th>149</th>\n",
       "      <td>5.9</td>\n",
       "      <td>3.0</td>\n",
       "      <td>5.1</td>\n",
       "      <td>1.8</td>\n",
       "    </tr>\n",
       "  </tbody>\n",
       "</table>\n",
       "</div>"
      ],
      "text/plain": [
       "     sepal length (cm)  sepal width (cm)  petal length (cm)  petal width (cm)\n",
       "145                6.7               3.0                5.2               2.3\n",
       "146                6.3               2.5                5.0               1.9\n",
       "147                6.5               3.0                5.2               2.0\n",
       "148                6.2               3.4                5.4               2.3\n",
       "149                5.9               3.0                5.1               1.8"
      ]
     },
     "execution_count": 5,
     "metadata": {},
     "output_type": "execute_result"
    }
   ],
   "source": [
    "dataframe"
   ]
  },
  {
   "cell_type": "markdown",
   "id": "1fc3b8b4-595d-4e5c-a24f-f0821dbf4b4c",
   "metadata": {},
   "source": [
    "In Python, the standard deviation is calculated using the Bessel's correction, where the sum of squared differences is divided by $n−1$ instead of $n$ (where $n$ is the number of data points). However, in the case of the `StandardScaler`, the standard deviation is calculated without this correction. The `ddof` (Delta Degrees of Freedom) argument is set to 0 to match the behavior of `StandardScaler`"
   ]
  },
  {
   "cell_type": "code",
   "execution_count": 6,
   "id": "57e521ec-0d46-4677-b257-56412f82cf06",
   "metadata": {},
   "outputs": [
    {
     "name": "stdout",
     "output_type": "stream",
     "text": [
      "1.4006985834715227\n"
     ]
    }
   ],
   "source": [
    "mean = dataframe['sepal length (cm)'].mean()\n",
    "std = dataframe['sepal length (cm)'].std(ddof=0)\n",
    "\n",
    "point = dataframe['sepal length (cm)'].iloc[0]\n",
    "\n",
    "scale = (point - mean) / std\n",
    "print(scale)"
   ]
  },
  {
   "cell_type": "code",
   "execution_count": 7,
   "id": "394ab47c-ecc8-4af3-8aba-4ed22465f121",
   "metadata": {},
   "outputs": [
    {
     "name": "stdout",
     "output_type": "stream",
     "text": [
      "1.4006985834715227\n"
     ]
    }
   ],
   "source": [
    "scaler = StandardScaler()\n",
    "scale = scaler.fit_transform(dataframe)\n",
    "\n",
    "point = scale[0][0]\n",
    "print(point)"
   ]
  },
  {
   "cell_type": "code",
   "execution_count": 8,
   "id": "e4ed161a-3e76-495b-9397-86d539b7355b",
   "metadata": {},
   "outputs": [
    {
     "data": {
      "text/html": [
       "<div>\n",
       "<style scoped>\n",
       "    .dataframe tbody tr th:only-of-type {\n",
       "        vertical-align: middle;\n",
       "    }\n",
       "\n",
       "    .dataframe tbody tr th {\n",
       "        vertical-align: top;\n",
       "    }\n",
       "\n",
       "    .dataframe thead th {\n",
       "        text-align: right;\n",
       "    }\n",
       "</style>\n",
       "<table border=\"1\" class=\"dataframe\">\n",
       "  <thead>\n",
       "    <tr style=\"text-align: right;\">\n",
       "      <th></th>\n",
       "      <th>sepal length (cm)</th>\n",
       "      <th>sepal width (cm)</th>\n",
       "      <th>petal length (cm)</th>\n",
       "      <th>petal width (cm)</th>\n",
       "    </tr>\n",
       "  </thead>\n",
       "  <tbody>\n",
       "    <tr>\n",
       "      <th>145</th>\n",
       "      <td>1.400699</td>\n",
       "      <td>0.070014</td>\n",
       "      <td>0.150756</td>\n",
       "      <td>1.165543</td>\n",
       "    </tr>\n",
       "    <tr>\n",
       "      <th>146</th>\n",
       "      <td>-0.073721</td>\n",
       "      <td>-1.680336</td>\n",
       "      <td>-1.356801</td>\n",
       "      <td>-0.777029</td>\n",
       "    </tr>\n",
       "    <tr>\n",
       "      <th>147</th>\n",
       "      <td>0.663489</td>\n",
       "      <td>0.070014</td>\n",
       "      <td>0.150756</td>\n",
       "      <td>-0.291386</td>\n",
       "    </tr>\n",
       "    <tr>\n",
       "      <th>148</th>\n",
       "      <td>-0.442326</td>\n",
       "      <td>1.470294</td>\n",
       "      <td>1.658312</td>\n",
       "      <td>1.165543</td>\n",
       "    </tr>\n",
       "    <tr>\n",
       "      <th>149</th>\n",
       "      <td>-1.548141</td>\n",
       "      <td>0.070014</td>\n",
       "      <td>-0.603023</td>\n",
       "      <td>-1.262672</td>\n",
       "    </tr>\n",
       "  </tbody>\n",
       "</table>\n",
       "</div>"
      ],
      "text/plain": [
       "     sepal length (cm)  sepal width (cm)  petal length (cm)  petal width (cm)\n",
       "145           1.400699          0.070014           0.150756          1.165543\n",
       "146          -0.073721         -1.680336          -1.356801         -0.777029\n",
       "147           0.663489          0.070014           0.150756         -0.291386\n",
       "148          -0.442326          1.470294           1.658312          1.165543\n",
       "149          -1.548141          0.070014          -0.603023         -1.262672"
      ]
     },
     "execution_count": 8,
     "metadata": {},
     "output_type": "execute_result"
    }
   ],
   "source": [
    "dataframe.loc[:, dataframe.columns] = scale\n",
    "\n",
    "dataframe"
   ]
  },
  {
   "cell_type": "code",
   "execution_count": 9,
   "id": "5d16a1ae-2c20-40e4-9475-230dc6329722",
   "metadata": {},
   "outputs": [
    {
     "name": "stdout",
     "output_type": "stream",
     "text": [
      "NumPy: -0.1225856456350881\n",
      "Manual: -0.1225856456350881\n"
     ]
    }
   ],
   "source": [
    "# NumPy:\n",
    "covariance = np.cov(scale[:, 0], scale[:, 1])[0, 1]\n",
    "print(f\"NumPy: {covariance}\")\n",
    "\n",
    "# Manual\n",
    "x = dataframe['sepal length (cm)'].tolist()\n",
    "sample = len(x)\n",
    "\n",
    "x_col = dataframe.iloc[:, 0]\n",
    "y_col = dataframe.iloc[:, 1]\n",
    "x_mean = x_col.mean()\n",
    "y_mean = y_col.mean()\n",
    "\n",
    "covariance = ((x_col - x_mean) * (y_col - y_mean)).sum() / (sample - 1)\n",
    "print(f\"Manual: {covariance}\")"
   ]
  },
  {
   "cell_type": "code",
   "execution_count": 10,
   "id": "b9bf496b-04b8-48b5-a769-25a6a9eee972",
   "metadata": {},
   "outputs": [
    {
     "data": {
      "text/plain": [
       "array([[ 1.25      , -0.12258565,  0.15281551,  0.73394247],\n",
       "       [-0.12258565,  1.25      ,  1.17424467,  0.74803974],\n",
       "       [ 0.15281551,  1.17424467,  1.25      ,  0.9700779 ],\n",
       "       [ 0.73394247,  0.74803974,  0.9700779 ,  1.25      ]])"
      ]
     },
     "execution_count": 10,
     "metadata": {},
     "output_type": "execute_result"
    }
   ],
   "source": [
    "covariance = np.cov(dataframe.T)\n",
    "covariance"
   ]
  }
 ],
 "metadata": {
  "kernelspec": {
   "display_name": "Python 3 (ipykernel)",
   "language": "python",
   "name": "python3"
  },
  "language_info": {
   "codemirror_mode": {
    "name": "ipython",
    "version": 3
   },
   "file_extension": ".py",
   "mimetype": "text/x-python",
   "name": "python",
   "nbconvert_exporter": "python",
   "pygments_lexer": "ipython3",
   "version": "3.11.2"
  }
 },
 "nbformat": 4,
 "nbformat_minor": 5
}
