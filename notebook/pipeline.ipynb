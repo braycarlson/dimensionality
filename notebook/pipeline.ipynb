{
 "cells": [
  {
   "cell_type": "markdown",
   "id": "8c300559-670b-4ea7-b063-9018d49b84f0",
   "metadata": {},
   "source": [
    "# Pipeline"
   ]
  },
  {
   "cell_type": "code",
   "execution_count": 1,
   "id": "71affdfe-b566-4005-9d5a-aa9cc87a72c3",
   "metadata": {},
   "outputs": [],
   "source": [
    "# Reload the notebook if an external file is updated\n",
    "%load_ext autoreload\n",
    "%autoreload 2\n",
    "\n",
    "import sys\n",
    "    \n",
    "from pathlib import Path\n",
    "\n",
    "path = (\n",
    "    Path\n",
    "    .cwd()\n",
    "    .parent\n",
    "    .parent\n",
    "    .joinpath('project')\n",
    ")\n",
    "\n",
    "sys.path.append(path)"
   ]
  },
  {
   "cell_type": "code",
   "execution_count": 2,
   "id": "737c7cc2-eb16-46d0-8bc3-02df2058abe6",
   "metadata": {},
   "outputs": [],
   "source": [
    "from __future__ import annotations\n",
    "\n",
    "import numpy as np\n",
    "import pandas as pd\n",
    "import sympy as sp\n",
    "\n",
    "from project.reduction import (\n",
    "    DimensionalityReduction,\n",
    "    PCAStrategy\n",
    ")\n",
    "from project.visualizer.pca import (\n",
    "    MatplotlibVisualizer,\n",
    "    PCAVisualizer,\n",
    "    PlotlyVisualizer\n",
    ")\n",
    "from project.visualizer.settings import Settings\n",
    "from sklearn.datasets import (\n",
    "    load_digits,\n",
    "    load_iris,\n",
    "    load_wine\n",
    ")\n",
    "from sklearn.preprocessing import StandardScaler"
   ]
  },
  {
   "cell_type": "code",
   "execution_count": 3,
   "id": "c1d4c1a9-18bd-4fed-a943-dc5383997e1d",
   "metadata": {},
   "outputs": [],
   "source": [
    "scale = True\n",
    "\n",
    "loader = load_iris()\n",
    "\n",
    "columns, data, target = (\n",
    "    loader.feature_names,\n",
    "    loader.data,\n",
    "    loader.target\n",
    ")\n",
    "\n",
    "dataframe = pd.DataFrame(columns=columns, data=data)"
   ]
  },
  {
   "cell_type": "code",
   "execution_count": 4,
   "id": "d29bd863-01a5-490b-900f-d938da55746f",
   "metadata": {},
   "outputs": [],
   "source": [
    "subset = dataframe.tail()\n",
    "dataframe = subset.copy()"
   ]
  },
  {
   "cell_type": "code",
   "execution_count": 5,
   "id": "5178f574-ba7e-4304-9903-1d3c3ca460c5",
   "metadata": {},
   "outputs": [
    {
     "data": {
      "text/html": [
       "<div>\n",
       "<style scoped>\n",
       "    .dataframe tbody tr th:only-of-type {\n",
       "        vertical-align: middle;\n",
       "    }\n",
       "\n",
       "    .dataframe tbody tr th {\n",
       "        vertical-align: top;\n",
       "    }\n",
       "\n",
       "    .dataframe thead th {\n",
       "        text-align: right;\n",
       "    }\n",
       "</style>\n",
       "<table border=\"1\" class=\"dataframe\">\n",
       "  <thead>\n",
       "    <tr style=\"text-align: right;\">\n",
       "      <th></th>\n",
       "      <th>sepal length (cm)</th>\n",
       "      <th>sepal width (cm)</th>\n",
       "      <th>petal length (cm)</th>\n",
       "      <th>petal width (cm)</th>\n",
       "    </tr>\n",
       "  </thead>\n",
       "  <tbody>\n",
       "    <tr>\n",
       "      <th>145</th>\n",
       "      <td>6.7</td>\n",
       "      <td>3.0</td>\n",
       "      <td>5.2</td>\n",
       "      <td>2.3</td>\n",
       "    </tr>\n",
       "    <tr>\n",
       "      <th>146</th>\n",
       "      <td>6.3</td>\n",
       "      <td>2.5</td>\n",
       "      <td>5.0</td>\n",
       "      <td>1.9</td>\n",
       "    </tr>\n",
       "    <tr>\n",
       "      <th>147</th>\n",
       "      <td>6.5</td>\n",
       "      <td>3.0</td>\n",
       "      <td>5.2</td>\n",
       "      <td>2.0</td>\n",
       "    </tr>\n",
       "    <tr>\n",
       "      <th>148</th>\n",
       "      <td>6.2</td>\n",
       "      <td>3.4</td>\n",
       "      <td>5.4</td>\n",
       "      <td>2.3</td>\n",
       "    </tr>\n",
       "    <tr>\n",
       "      <th>149</th>\n",
       "      <td>5.9</td>\n",
       "      <td>3.0</td>\n",
       "      <td>5.1</td>\n",
       "      <td>1.8</td>\n",
       "    </tr>\n",
       "  </tbody>\n",
       "</table>\n",
       "</div>"
      ],
      "text/plain": [
       "     sepal length (cm)  sepal width (cm)  petal length (cm)  petal width (cm)\n",
       "145                6.7               3.0                5.2               2.3\n",
       "146                6.3               2.5                5.0               1.9\n",
       "147                6.5               3.0                5.2               2.0\n",
       "148                6.2               3.4                5.4               2.3\n",
       "149                5.9               3.0                5.1               1.8"
      ]
     },
     "execution_count": 5,
     "metadata": {},
     "output_type": "execute_result"
    }
   ],
   "source": [
    "dataframe"
   ]
  },
  {
   "cell_type": "code",
   "execution_count": 6,
   "id": "394ab47c-ecc8-4af3-8aba-4ed22465f121",
   "metadata": {},
   "outputs": [],
   "source": [
    "scaler = StandardScaler()\n",
    "scale = scaler.fit_transform(dataframe)"
   ]
  },
  {
   "cell_type": "code",
   "execution_count": 7,
   "id": "e4ed161a-3e76-495b-9397-86d539b7355b",
   "metadata": {},
   "outputs": [],
   "source": [
    "dataframe.loc[:, dataframe.columns] = scale"
   ]
  },
  {
   "cell_type": "code",
   "execution_count": 8,
   "id": "b9bf496b-04b8-48b5-a769-25a6a9eee972",
   "metadata": {},
   "outputs": [],
   "source": [
    "covariance = np.cov(dataframe.T)"
   ]
  },
  {
   "cell_type": "code",
   "execution_count": 9,
   "id": "bf828b60-e5b4-45ad-8e5a-281975efff8e",
   "metadata": {},
   "outputs": [
    {
     "data": {
      "text/plain": [
       "[(3.27976032210976,\n",
       "  1,\n",
       "  [Matrix([\n",
       "   [-0.214555181281587],\n",
       "   [-0.536847114115085],\n",
       "   [-0.594051789835147],\n",
       "   [-0.559342221940369]])]),\n",
       " (1.54434939341819,\n",
       "  1,\n",
       "  [Matrix([\n",
       "   [-0.828989944487641],\n",
       "   [ 0.415466530763106],\n",
       "   [ 0.213512469539301],\n",
       "   [-0.307531557901422]])]),\n",
       " (0.0344591710500394,\n",
       "  1,\n",
       "  [Matrix([\n",
       "   [-0.0137755767979422],\n",
       "   [ -0.596593614896672],\n",
       "   [  0.766786442600076],\n",
       "   [  -0.23648434111612]])]),\n",
       " (0.141431113422006,\n",
       "  1,\n",
       "  [Matrix([\n",
       "   [ 0.516286722284707],\n",
       "   [ 0.428087370225396],\n",
       "   [ 0.116419275850727],\n",
       "   [-0.732554281986263]])])]"
      ]
     },
     "execution_count": 9,
     "metadata": {},
     "output_type": "execute_result"
    }
   ],
   "source": [
    "matrix = sp.Matrix(covariance)\n",
    "eigenvector  = matrix.eigenvects()\n",
    "\n",
    "eigenvector"
   ]
  },
  {
   "cell_type": "code",
   "execution_count": 10,
   "id": "85426ee0-3509-4c89-ac15-a954cfe38216",
   "metadata": {},
   "outputs": [],
   "source": [
    "eigenvalues, eigenvectors = np.linalg.eig(covariance)"
   ]
  },
  {
   "cell_type": "code",
   "execution_count": 11,
   "id": "ea51833c-52e8-46a0-8e5c-5d1040b5b654",
   "metadata": {},
   "outputs": [
    {
     "data": {
      "text/plain": [
       "array([3.27976032, 1.54434939, 0.14143111, 0.03445917])"
      ]
     },
     "execution_count": 11,
     "metadata": {},
     "output_type": "execute_result"
    }
   ],
   "source": [
    "eigenvalues"
   ]
  },
  {
   "cell_type": "code",
   "execution_count": 12,
   "id": "34ca0eab-eb2f-4f2f-8707-e0e12743344b",
   "metadata": {
    "scrolled": true
   },
   "outputs": [
    {
     "data": {
      "text/plain": [
       "array([[-0.21455518,  0.82898994, -0.51628672,  0.01377558],\n",
       "       [-0.53684711, -0.41546653, -0.42808737,  0.59659361],\n",
       "       [-0.59405179, -0.21351247, -0.11641928, -0.76678644],\n",
       "       [-0.55934222,  0.30753156,  0.73255428,  0.23648434]])"
      ]
     },
     "execution_count": 12,
     "metadata": {},
     "output_type": "execute_result"
    }
   ],
   "source": [
    "eigenvectors"
   ]
  },
  {
   "cell_type": "code",
   "execution_count": 13,
   "id": "57830d48-824b-4abe-a783-1fc378b1e71d",
   "metadata": {},
   "outputs": [
    {
     "data": {
      "text/plain": [
       "array([0, 1, 2, 3], dtype=int64)"
      ]
     },
     "execution_count": 13,
     "metadata": {},
     "output_type": "execute_result"
    }
   ],
   "source": [
    "# Sort the eigenvectors based on eigenvalues\n",
    "indices = np.argsort(eigenvalues)[::-1]\n",
    "\n",
    "indices"
   ]
  },
  {
   "cell_type": "code",
   "execution_count": 14,
   "id": "c044a649-0854-454b-b005-dcba2a6dc601",
   "metadata": {},
   "outputs": [
    {
     "data": {
      "text/plain": [
       "array([[-0.21455518,  0.82898994, -0.51628672,  0.01377558],\n",
       "       [-0.53684711, -0.41546653, -0.42808737,  0.59659361],\n",
       "       [-0.59405179, -0.21351247, -0.11641928, -0.76678644],\n",
       "       [-0.55934222,  0.30753156,  0.73255428,  0.23648434]])"
      ]
     },
     "execution_count": 14,
     "metadata": {},
     "output_type": "execute_result"
    }
   ],
   "source": [
    "eigenvectors_sorted = eigenvectors[:, indices]\n",
    "\n",
    "eigenvectors_sorted"
   ]
  },
  {
   "cell_type": "code",
   "execution_count": 15,
   "id": "6b29784a-d335-4503-b715-0cb57201d8d0",
   "metadata": {},
   "outputs": [
    {
     "data": {
      "text/plain": [
       "array([3.27976032, 1.54434939, 0.14143111, 0.03445917])"
      ]
     },
     "execution_count": 15,
     "metadata": {},
     "output_type": "execute_result"
    }
   ],
   "source": [
    "eigenvalues_sorted = eigenvalues[indices]\n",
    "\n",
    "eigenvalues_sorted"
   ]
  },
  {
   "cell_type": "code",
   "execution_count": 16,
   "id": "597599a3-08cb-4086-8162-4f4c06a2fb08",
   "metadata": {},
   "outputs": [
    {
     "data": {
      "text/plain": [
       "array([[-0.21455518,  0.82898994],\n",
       "       [-0.53684711, -0.41546653],\n",
       "       [-0.59405179, -0.21351247],\n",
       "       [-0.55934222,  0.30753156]])"
      ]
     },
     "execution_count": 16,
     "metadata": {},
     "output_type": "execute_result"
    }
   ],
   "source": [
    "# Choose the top 2 eigenvectors\n",
    "k = 2\n",
    "top_k_eigenvectors = eigenvectors_sorted[:, :k]\n",
    "\n",
    "top_k_eigenvectors"
   ]
  },
  {
   "cell_type": "code",
   "execution_count": 17,
   "id": "e186ca09-e778-402e-bdc8-b5ca0dbb316c",
   "metadata": {},
   "outputs": [
    {
     "data": {
      "text/plain": [
       "array([[-1.07960806,  1.45832961],\n",
       "       [ 2.15853585,  0.68774256],\n",
       "       [-0.1065141 ,  0.39913854],\n",
       "       [-2.33148071, -0.97317079],\n",
       "       [ 1.35906702, -1.57203992]])"
      ]
     },
     "execution_count": 17,
     "metadata": {},
     "output_type": "execute_result"
    }
   ],
   "source": [
    "# Transform the data\n",
    "transform = np.dot(\n",
    "    dataframe, \n",
    "    top_k_eigenvectors\n",
    ")\n",
    "\n",
    "transform"
   ]
  },
  {
   "cell_type": "code",
   "execution_count": 18,
   "id": "117e9b7b-27e9-46d7-a5ee-6f1c84ea8072",
   "metadata": {},
   "outputs": [],
   "source": [
    "target = loader.target\n",
    "\n",
    "dataset = dataframe.to_numpy()\n",
    "\n",
    "strategy = PCAStrategy(dataframe=dataframe, dataset=dataset, target=target)\n",
    "reduction = DimensionalityReduction(strategy=strategy)\n",
    "\n",
    "n_components = 2\n",
    "transformation = reduction.reduce(n_components=n_components)"
   ]
  },
  {
   "cell_type": "code",
   "execution_count": 19,
   "id": "c257ec9e-d549-406d-b76f-8149155974eb",
   "metadata": {},
   "outputs": [
    {
     "data": {
      "text/plain": [
       "array([[ 1.07960806, -1.45832961],\n",
       "       [-2.15853585, -0.68774256],\n",
       "       [ 0.1065141 , -0.39913854],\n",
       "       [ 2.33148071,  0.97317079],\n",
       "       [-1.35906702,  1.57203992]])"
      ]
     },
     "execution_count": 19,
     "metadata": {},
     "output_type": "execute_result"
    }
   ],
   "source": [
    "transformation"
   ]
  }
 ],
 "metadata": {
  "kernelspec": {
   "display_name": "Python 3 (ipykernel)",
   "language": "python",
   "name": "python3"
  },
  "language_info": {
   "codemirror_mode": {
    "name": "ipython",
    "version": 3
   },
   "file_extension": ".py",
   "mimetype": "text/x-python",
   "name": "python",
   "nbconvert_exporter": "python",
   "pygments_lexer": "ipython3",
   "version": "3.11.2"
  }
 },
 "nbformat": 4,
 "nbformat_minor": 5
}
